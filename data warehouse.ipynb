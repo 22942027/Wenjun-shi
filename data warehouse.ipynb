{
 "cells": [
  {
   "cell_type": "markdown",
   "id": "recovered-figure",
   "metadata": {},
   "source": [
    "### Data warehousing project 2"
   ]
  },
  {
   "cell_type": "markdown",
   "id": "nominated-elimination",
   "metadata": {},
   "source": [
    "### Data overview"
   ]
  },
  {
   "cell_type": "code",
   "execution_count": 1,
   "id": "willing-archive",
   "metadata": {},
   "outputs": [],
   "source": [
    "import numpy as np\n",
    "import pandas as pd\n",
    "mp_df = pd.read_csv(\"mobile_price.csv\")\n",
    "De = pd.read_csv(\"ColumnDescription.csv\")"
   ]
  },
  {
   "cell_type": "code",
   "execution_count": 2,
   "id": "deadly-january",
   "metadata": {},
   "outputs": [
    {
     "name": "stdout",
     "output_type": "stream",
     "text": [
      "<class 'pandas.core.frame.DataFrame'>\n",
      "RangeIndex: 2000 entries, 0 to 1999\n",
      "Data columns (total 22 columns):\n",
      " #   Column          Non-Null Count  Dtype  \n",
      "---  ------          --------------  -----  \n",
      " 0   id              2000 non-null   int64  \n",
      " 1   battery_power   2000 non-null   int64  \n",
      " 2   blue            2000 non-null   object \n",
      " 3   clock_speed     2000 non-null   float64\n",
      " 4   dual_sim        2000 non-null   object \n",
      " 5   fc              2000 non-null   int64  \n",
      " 6   four_g          2000 non-null   int64  \n",
      " 7   int_memory      2000 non-null   int64  \n",
      " 8   m_dep           2000 non-null   float64\n",
      " 9   mobile_wt       2000 non-null   int64  \n",
      " 10  n_cores         2000 non-null   int64  \n",
      " 11  pc              2000 non-null   int64  \n",
      " 12  px_height       2000 non-null   int64  \n",
      " 13  px_width        2000 non-null   int64  \n",
      " 14  ram             2000 non-null   int64  \n",
      " 15  sc_h            2000 non-null   int64  \n",
      " 16  sc_w            2000 non-null   int64  \n",
      " 17  talk_time       2000 non-null   int64  \n",
      " 18  three_g         2000 non-null   object \n",
      " 19  touch_screen    2000 non-null   int64  \n",
      " 20  wifi            2000 non-null   object \n",
      " 21  price_category  2000 non-null   int64  \n",
      "dtypes: float64(2), int64(16), object(4)\n",
      "memory usage: 343.9+ KB\n"
     ]
    }
   ],
   "source": [
    "mp_df.info()"
   ]
  },
  {
   "cell_type": "code",
   "execution_count": 6,
   "id": "turkish-electronics",
   "metadata": {},
   "outputs": [
    {
     "name": "stdout",
     "output_type": "stream",
     "text": [
      "<class 'pandas.core.frame.DataFrame'>\n",
      "RangeIndex: 22 entries, 0 to 21\n",
      "Data columns (total 2 columns):\n",
      " #   Column        Non-Null Count  Dtype \n",
      "---  ------        --------------  ----- \n",
      " 0   Column        22 non-null     object\n",
      " 1   Explaination  22 non-null     object\n",
      "dtypes: object(2)\n",
      "memory usage: 480.0+ bytes\n"
     ]
    }
   ],
   "source": [
    "De.info()"
   ]
  },
  {
   "cell_type": "markdown",
   "id": "determined-silly",
   "metadata": {},
   "source": [
    "### Drop unrelated column"
   ]
  },
  {
   "cell_type": "code",
   "execution_count": 7,
   "id": "individual-elder",
   "metadata": {},
   "outputs": [],
   "source": [
    "mp_df = mp_df.drop([\"id\"],axis = 1)"
   ]
  },
  {
   "cell_type": "code",
   "execution_count": 8,
   "id": "otherwise-devices",
   "metadata": {},
   "outputs": [
    {
     "name": "stdout",
     "output_type": "stream",
     "text": [
      "<class 'pandas.core.frame.DataFrame'>\n",
      "RangeIndex: 2000 entries, 0 to 1999\n",
      "Data columns (total 21 columns):\n",
      " #   Column          Non-Null Count  Dtype  \n",
      "---  ------          --------------  -----  \n",
      " 0   battery_power   2000 non-null   int64  \n",
      " 1   blue            2000 non-null   object \n",
      " 2   clock_speed     2000 non-null   float64\n",
      " 3   dual_sim        2000 non-null   object \n",
      " 4   fc              2000 non-null   int64  \n",
      " 5   four_g          2000 non-null   int64  \n",
      " 6   int_memory      2000 non-null   int64  \n",
      " 7   m_dep           2000 non-null   float64\n",
      " 8   mobile_wt       2000 non-null   int64  \n",
      " 9   n_cores         2000 non-null   int64  \n",
      " 10  pc              2000 non-null   int64  \n",
      " 11  px_height       2000 non-null   int64  \n",
      " 12  px_width        2000 non-null   int64  \n",
      " 13  ram             2000 non-null   int64  \n",
      " 14  sc_h            2000 non-null   int64  \n",
      " 15  sc_w            2000 non-null   int64  \n",
      " 16  talk_time       2000 non-null   int64  \n",
      " 17  three_g         2000 non-null   object \n",
      " 18  touch_screen    2000 non-null   int64  \n",
      " 19  wifi            2000 non-null   object \n",
      " 20  price_category  2000 non-null   int64  \n",
      "dtypes: float64(2), int64(15), object(4)\n",
      "memory usage: 328.2+ KB\n"
     ]
    }
   ],
   "source": [
    "mp_df.info()"
   ]
  },
  {
   "cell_type": "markdown",
   "id": "polar-statement",
   "metadata": {},
   "source": [
    "### Change data into unified data "
   ]
  },
  {
   "cell_type": "code",
   "execution_count": 9,
   "id": "precise-statistics",
   "metadata": {},
   "outputs": [],
   "source": [
    "mp_features = mp_df.drop([\"price_category\"],axis = 1)"
   ]
  },
  {
   "cell_type": "code",
   "execution_count": 10,
   "id": "minimal-figure",
   "metadata": {},
   "outputs": [
    {
     "data": {
      "text/html": [
       "<div>\n",
       "<style scoped>\n",
       "    .dataframe tbody tr th:only-of-type {\n",
       "        vertical-align: middle;\n",
       "    }\n",
       "\n",
       "    .dataframe tbody tr th {\n",
       "        vertical-align: top;\n",
       "    }\n",
       "\n",
       "    .dataframe thead th {\n",
       "        text-align: right;\n",
       "    }\n",
       "</style>\n",
       "<table border=\"1\" class=\"dataframe\">\n",
       "  <thead>\n",
       "    <tr style=\"text-align: right;\">\n",
       "      <th></th>\n",
       "      <th>battery_power</th>\n",
       "      <th>clock_speed</th>\n",
       "      <th>fc</th>\n",
       "      <th>four_g</th>\n",
       "      <th>int_memory</th>\n",
       "      <th>m_dep</th>\n",
       "      <th>mobile_wt</th>\n",
       "      <th>n_cores</th>\n",
       "      <th>pc</th>\n",
       "      <th>px_height</th>\n",
       "      <th>px_width</th>\n",
       "      <th>ram</th>\n",
       "      <th>sc_h</th>\n",
       "      <th>sc_w</th>\n",
       "      <th>talk_time</th>\n",
       "      <th>touch_screen</th>\n",
       "      <th>price_category</th>\n",
       "    </tr>\n",
       "  </thead>\n",
       "  <tbody>\n",
       "    <tr>\n",
       "      <th>count</th>\n",
       "      <td>2000.000000</td>\n",
       "      <td>2000.000000</td>\n",
       "      <td>2000.000000</td>\n",
       "      <td>2000.000000</td>\n",
       "      <td>2000.000000</td>\n",
       "      <td>2000.000000</td>\n",
       "      <td>2000.000000</td>\n",
       "      <td>2000.000000</td>\n",
       "      <td>2000.000000</td>\n",
       "      <td>2000.000000</td>\n",
       "      <td>2000.000000</td>\n",
       "      <td>2000.000000</td>\n",
       "      <td>2000.000000</td>\n",
       "      <td>2000.000000</td>\n",
       "      <td>2000.000000</td>\n",
       "      <td>2000.000000</td>\n",
       "      <td>2000.000000</td>\n",
       "    </tr>\n",
       "    <tr>\n",
       "      <th>mean</th>\n",
       "      <td>1238.518500</td>\n",
       "      <td>1.522250</td>\n",
       "      <td>4.309500</td>\n",
       "      <td>0.521500</td>\n",
       "      <td>32.046500</td>\n",
       "      <td>0.501750</td>\n",
       "      <td>140.249000</td>\n",
       "      <td>4.520500</td>\n",
       "      <td>9.916500</td>\n",
       "      <td>645.108000</td>\n",
       "      <td>1251.515500</td>\n",
       "      <td>2124.213000</td>\n",
       "      <td>12.306500</td>\n",
       "      <td>5.767000</td>\n",
       "      <td>11.011000</td>\n",
       "      <td>0.503000</td>\n",
       "      <td>0.250000</td>\n",
       "    </tr>\n",
       "    <tr>\n",
       "      <th>std</th>\n",
       "      <td>439.418206</td>\n",
       "      <td>0.816004</td>\n",
       "      <td>4.341444</td>\n",
       "      <td>0.499662</td>\n",
       "      <td>18.145715</td>\n",
       "      <td>0.288416</td>\n",
       "      <td>35.399655</td>\n",
       "      <td>2.287837</td>\n",
       "      <td>6.064315</td>\n",
       "      <td>443.780811</td>\n",
       "      <td>432.199447</td>\n",
       "      <td>1084.732044</td>\n",
       "      <td>4.213245</td>\n",
       "      <td>4.356398</td>\n",
       "      <td>5.463955</td>\n",
       "      <td>0.500116</td>\n",
       "      <td>0.433121</td>\n",
       "    </tr>\n",
       "    <tr>\n",
       "      <th>min</th>\n",
       "      <td>501.000000</td>\n",
       "      <td>0.500000</td>\n",
       "      <td>0.000000</td>\n",
       "      <td>0.000000</td>\n",
       "      <td>2.000000</td>\n",
       "      <td>0.100000</td>\n",
       "      <td>80.000000</td>\n",
       "      <td>1.000000</td>\n",
       "      <td>0.000000</td>\n",
       "      <td>0.000000</td>\n",
       "      <td>500.000000</td>\n",
       "      <td>256.000000</td>\n",
       "      <td>5.000000</td>\n",
       "      <td>0.000000</td>\n",
       "      <td>2.000000</td>\n",
       "      <td>0.000000</td>\n",
       "      <td>0.000000</td>\n",
       "    </tr>\n",
       "    <tr>\n",
       "      <th>25%</th>\n",
       "      <td>851.750000</td>\n",
       "      <td>0.700000</td>\n",
       "      <td>1.000000</td>\n",
       "      <td>0.000000</td>\n",
       "      <td>16.000000</td>\n",
       "      <td>0.200000</td>\n",
       "      <td>109.000000</td>\n",
       "      <td>3.000000</td>\n",
       "      <td>5.000000</td>\n",
       "      <td>282.750000</td>\n",
       "      <td>874.750000</td>\n",
       "      <td>1207.500000</td>\n",
       "      <td>9.000000</td>\n",
       "      <td>2.000000</td>\n",
       "      <td>6.000000</td>\n",
       "      <td>0.000000</td>\n",
       "      <td>0.000000</td>\n",
       "    </tr>\n",
       "    <tr>\n",
       "      <th>50%</th>\n",
       "      <td>1226.000000</td>\n",
       "      <td>1.500000</td>\n",
       "      <td>3.000000</td>\n",
       "      <td>1.000000</td>\n",
       "      <td>32.000000</td>\n",
       "      <td>0.500000</td>\n",
       "      <td>141.000000</td>\n",
       "      <td>4.000000</td>\n",
       "      <td>10.000000</td>\n",
       "      <td>564.000000</td>\n",
       "      <td>1247.000000</td>\n",
       "      <td>2146.500000</td>\n",
       "      <td>12.000000</td>\n",
       "      <td>5.000000</td>\n",
       "      <td>11.000000</td>\n",
       "      <td>1.000000</td>\n",
       "      <td>0.000000</td>\n",
       "    </tr>\n",
       "    <tr>\n",
       "      <th>75%</th>\n",
       "      <td>1615.250000</td>\n",
       "      <td>2.200000</td>\n",
       "      <td>7.000000</td>\n",
       "      <td>1.000000</td>\n",
       "      <td>48.000000</td>\n",
       "      <td>0.800000</td>\n",
       "      <td>170.000000</td>\n",
       "      <td>7.000000</td>\n",
       "      <td>15.000000</td>\n",
       "      <td>947.250000</td>\n",
       "      <td>1633.000000</td>\n",
       "      <td>3064.500000</td>\n",
       "      <td>16.000000</td>\n",
       "      <td>9.000000</td>\n",
       "      <td>16.000000</td>\n",
       "      <td>1.000000</td>\n",
       "      <td>0.250000</td>\n",
       "    </tr>\n",
       "    <tr>\n",
       "      <th>max</th>\n",
       "      <td>1998.000000</td>\n",
       "      <td>3.000000</td>\n",
       "      <td>19.000000</td>\n",
       "      <td>1.000000</td>\n",
       "      <td>64.000000</td>\n",
       "      <td>1.000000</td>\n",
       "      <td>200.000000</td>\n",
       "      <td>8.000000</td>\n",
       "      <td>20.000000</td>\n",
       "      <td>1960.000000</td>\n",
       "      <td>1998.000000</td>\n",
       "      <td>3998.000000</td>\n",
       "      <td>19.000000</td>\n",
       "      <td>18.000000</td>\n",
       "      <td>20.000000</td>\n",
       "      <td>1.000000</td>\n",
       "      <td>1.000000</td>\n",
       "    </tr>\n",
       "  </tbody>\n",
       "</table>\n",
       "</div>"
      ],
      "text/plain": [
       "       battery_power  clock_speed           fc       four_g   int_memory  \\\n",
       "count    2000.000000  2000.000000  2000.000000  2000.000000  2000.000000   \n",
       "mean     1238.518500     1.522250     4.309500     0.521500    32.046500   \n",
       "std       439.418206     0.816004     4.341444     0.499662    18.145715   \n",
       "min       501.000000     0.500000     0.000000     0.000000     2.000000   \n",
       "25%       851.750000     0.700000     1.000000     0.000000    16.000000   \n",
       "50%      1226.000000     1.500000     3.000000     1.000000    32.000000   \n",
       "75%      1615.250000     2.200000     7.000000     1.000000    48.000000   \n",
       "max      1998.000000     3.000000    19.000000     1.000000    64.000000   \n",
       "\n",
       "             m_dep    mobile_wt      n_cores           pc    px_height  \\\n",
       "count  2000.000000  2000.000000  2000.000000  2000.000000  2000.000000   \n",
       "mean      0.501750   140.249000     4.520500     9.916500   645.108000   \n",
       "std       0.288416    35.399655     2.287837     6.064315   443.780811   \n",
       "min       0.100000    80.000000     1.000000     0.000000     0.000000   \n",
       "25%       0.200000   109.000000     3.000000     5.000000   282.750000   \n",
       "50%       0.500000   141.000000     4.000000    10.000000   564.000000   \n",
       "75%       0.800000   170.000000     7.000000    15.000000   947.250000   \n",
       "max       1.000000   200.000000     8.000000    20.000000  1960.000000   \n",
       "\n",
       "          px_width          ram         sc_h         sc_w    talk_time  \\\n",
       "count  2000.000000  2000.000000  2000.000000  2000.000000  2000.000000   \n",
       "mean   1251.515500  2124.213000    12.306500     5.767000    11.011000   \n",
       "std     432.199447  1084.732044     4.213245     4.356398     5.463955   \n",
       "min     500.000000   256.000000     5.000000     0.000000     2.000000   \n",
       "25%     874.750000  1207.500000     9.000000     2.000000     6.000000   \n",
       "50%    1247.000000  2146.500000    12.000000     5.000000    11.000000   \n",
       "75%    1633.000000  3064.500000    16.000000     9.000000    16.000000   \n",
       "max    1998.000000  3998.000000    19.000000    18.000000    20.000000   \n",
       "\n",
       "       touch_screen  price_category  \n",
       "count   2000.000000     2000.000000  \n",
       "mean       0.503000        0.250000  \n",
       "std        0.500116        0.433121  \n",
       "min        0.000000        0.000000  \n",
       "25%        0.000000        0.000000  \n",
       "50%        1.000000        0.000000  \n",
       "75%        1.000000        0.250000  \n",
       "max        1.000000        1.000000  "
      ]
     },
     "execution_count": 10,
     "metadata": {},
     "output_type": "execute_result"
    }
   ],
   "source": [
    "mp_df.describe()"
   ]
  },
  {
   "cell_type": "code",
   "execution_count": 11,
   "id": "honest-chicken",
   "metadata": {},
   "outputs": [
    {
     "data": {
      "text/plain": [
       "no     654\n",
       "yes    623\n",
       "Yes    173\n",
       "No     165\n",
       "NO      96\n",
       "YES     79\n",
       "has     62\n",
       "Has     53\n",
       "Not     48\n",
       "not     47\n",
       "Name: blue, dtype: int64"
      ]
     },
     "execution_count": 11,
     "metadata": {},
     "output_type": "execute_result"
    }
   ],
   "source": [
    "mp_df[\"blue\"].value_counts()"
   ]
  },
  {
   "cell_type": "code",
   "execution_count": 12,
   "id": "neutral-concentrate",
   "metadata": {},
   "outputs": [],
   "source": [
    "mp_df['blue'].replace(['yes','Yes','YES','has','Has'], 1, inplace = True)\n",
    "mp_df['blue'].replace(['no','No','NO','Not','not'], 0, inplace = True)"
   ]
  },
  {
   "cell_type": "code",
   "execution_count": 13,
   "id": "surface-disaster",
   "metadata": {},
   "outputs": [
    {
     "data": {
      "text/plain": [
       "0    1010\n",
       "1     990\n",
       "Name: blue, dtype: int64"
      ]
     },
     "execution_count": 13,
     "metadata": {},
     "output_type": "execute_result"
    }
   ],
   "source": [
    "mp_df[\"blue\"].value_counts()"
   ]
  },
  {
   "cell_type": "code",
   "execution_count": 14,
   "id": "renewable-variance",
   "metadata": {},
   "outputs": [
    {
     "data": {
      "text/plain": [
       "yes    645\n",
       "no     607\n",
       "No     171\n",
       "Yes    150\n",
       "NO     106\n",
       "YES     99\n",
       "has     68\n",
       "Has     57\n",
       "Not     51\n",
       "not     46\n",
       "Name: dual_sim, dtype: int64"
      ]
     },
     "execution_count": 14,
     "metadata": {},
     "output_type": "execute_result"
    }
   ],
   "source": [
    "mp_df[\"dual_sim\"].value_counts()"
   ]
  },
  {
   "cell_type": "code",
   "execution_count": 15,
   "id": "competitive-coordinator",
   "metadata": {},
   "outputs": [],
   "source": [
    "mp_df['dual_sim'].replace(['yes','Yes','YES','has','Has'], 1, inplace = True)\n",
    "mp_df['dual_sim'].replace(['no','No','NO','Not','not'], 0, inplace = True)"
   ]
  },
  {
   "cell_type": "code",
   "execution_count": 16,
   "id": "stopped-threat",
   "metadata": {},
   "outputs": [
    {
     "data": {
      "text/plain": [
       "1    1019\n",
       "0     981\n",
       "Name: dual_sim, dtype: int64"
      ]
     },
     "execution_count": 16,
     "metadata": {},
     "output_type": "execute_result"
    }
   ],
   "source": [
    "mp_df[\"dual_sim\"].value_counts()"
   ]
  },
  {
   "cell_type": "code",
   "execution_count": 17,
   "id": "nonprofit-advertiser",
   "metadata": {},
   "outputs": [
    {
     "data": {
      "text/plain": [
       "1    1043\n",
       "0     957\n",
       "Name: four_g, dtype: int64"
      ]
     },
     "execution_count": 17,
     "metadata": {},
     "output_type": "execute_result"
    }
   ],
   "source": [
    "mp_df[\"four_g\"].value_counts()"
   ]
  },
  {
   "cell_type": "code",
   "execution_count": 18,
   "id": "furnished-ranch",
   "metadata": {},
   "outputs": [
    {
     "data": {
      "text/plain": [
       "yes    945\n",
       "Yes    304\n",
       "no     301\n",
       "YES    140\n",
       "No      86\n",
       "Has     68\n",
       "has     66\n",
       "NO      46\n",
       "Not     23\n",
       "not     21\n",
       "Name: three_g, dtype: int64"
      ]
     },
     "execution_count": 18,
     "metadata": {},
     "output_type": "execute_result"
    }
   ],
   "source": [
    "mp_df[\"three_g\"].value_counts()"
   ]
  },
  {
   "cell_type": "code",
   "execution_count": 19,
   "id": "animated-postcard",
   "metadata": {},
   "outputs": [],
   "source": [
    "mp_df['three_g'].replace(['yes','Yes','YES','has','Has'], 1, inplace = True)\n",
    "mp_df['three_g'].replace(['no','No','NO','Not','not'], 0, inplace = True)"
   ]
  },
  {
   "cell_type": "code",
   "execution_count": 20,
   "id": "banned-demographic",
   "metadata": {},
   "outputs": [
    {
     "data": {
      "text/plain": [
       "1    1523\n",
       "0     477\n",
       "Name: three_g, dtype: int64"
      ]
     },
     "execution_count": 20,
     "metadata": {},
     "output_type": "execute_result"
    }
   ],
   "source": [
    "mp_df[\"three_g\"].value_counts()"
   ]
  },
  {
   "cell_type": "code",
   "execution_count": 21,
   "id": "cognitive-affect",
   "metadata": {},
   "outputs": [
    {
     "data": {
      "text/plain": [
       "no     645\n",
       "yes    619\n",
       "Yes    205\n",
       "No     181\n",
       "YES     97\n",
       "NO      81\n",
       "Has     55\n",
       "not     40\n",
       "Not     39\n",
       "has     38\n",
       "Name: wifi, dtype: int64"
      ]
     },
     "execution_count": 21,
     "metadata": {},
     "output_type": "execute_result"
    }
   ],
   "source": [
    "mp_df[\"wifi\"].value_counts()"
   ]
  },
  {
   "cell_type": "code",
   "execution_count": 22,
   "id": "italic-egypt",
   "metadata": {},
   "outputs": [],
   "source": [
    "mp_df['wifi'].replace(['yes','Yes','YES','has','Has'], 1, inplace = True)\n",
    "mp_df['wifi'].replace(['no','No','NO','Not','not'], 0, inplace = True)"
   ]
  },
  {
   "cell_type": "code",
   "execution_count": 23,
   "id": "valued-mechanism",
   "metadata": {},
   "outputs": [
    {
     "data": {
      "text/plain": [
       "1    1014\n",
       "0     986\n",
       "Name: wifi, dtype: int64"
      ]
     },
     "execution_count": 23,
     "metadata": {},
     "output_type": "execute_result"
    }
   ],
   "source": [
    "mp_df[\"wifi\"].value_counts()"
   ]
  },
  {
   "cell_type": "markdown",
   "id": "through-alaska",
   "metadata": {},
   "source": [
    "### Save the file named as \"modified phone\""
   ]
  },
  {
   "cell_type": "code",
   "execution_count": 24,
   "id": "searching-brown",
   "metadata": {},
   "outputs": [],
   "source": [
    "mp_df.to_csv(\"modified phone.csv\")"
   ]
  },
  {
   "cell_type": "code",
   "execution_count": 25,
   "id": "international-mailing",
   "metadata": {},
   "outputs": [
    {
     "data": {
      "text/html": [
       "<div>\n",
       "<style scoped>\n",
       "    .dataframe tbody tr th:only-of-type {\n",
       "        vertical-align: middle;\n",
       "    }\n",
       "\n",
       "    .dataframe tbody tr th {\n",
       "        vertical-align: top;\n",
       "    }\n",
       "\n",
       "    .dataframe thead th {\n",
       "        text-align: right;\n",
       "    }\n",
       "</style>\n",
       "<table border=\"1\" class=\"dataframe\">\n",
       "  <thead>\n",
       "    <tr style=\"text-align: right;\">\n",
       "      <th></th>\n",
       "      <th>battery_power</th>\n",
       "      <th>blue</th>\n",
       "      <th>clock_speed</th>\n",
       "      <th>dual_sim</th>\n",
       "      <th>fc</th>\n",
       "      <th>four_g</th>\n",
       "      <th>int_memory</th>\n",
       "      <th>m_dep</th>\n",
       "      <th>mobile_wt</th>\n",
       "      <th>n_cores</th>\n",
       "      <th>...</th>\n",
       "      <th>px_height</th>\n",
       "      <th>px_width</th>\n",
       "      <th>ram</th>\n",
       "      <th>sc_h</th>\n",
       "      <th>sc_w</th>\n",
       "      <th>talk_time</th>\n",
       "      <th>three_g</th>\n",
       "      <th>touch_screen</th>\n",
       "      <th>wifi</th>\n",
       "      <th>price_category</th>\n",
       "    </tr>\n",
       "  </thead>\n",
       "  <tbody>\n",
       "    <tr>\n",
       "      <th>0</th>\n",
       "      <td>842</td>\n",
       "      <td>0</td>\n",
       "      <td>2.2</td>\n",
       "      <td>0</td>\n",
       "      <td>1</td>\n",
       "      <td>0</td>\n",
       "      <td>7</td>\n",
       "      <td>0.6</td>\n",
       "      <td>188</td>\n",
       "      <td>2</td>\n",
       "      <td>...</td>\n",
       "      <td>20</td>\n",
       "      <td>756</td>\n",
       "      <td>2549</td>\n",
       "      <td>9</td>\n",
       "      <td>7</td>\n",
       "      <td>19</td>\n",
       "      <td>0</td>\n",
       "      <td>0</td>\n",
       "      <td>1</td>\n",
       "      <td>0</td>\n",
       "    </tr>\n",
       "    <tr>\n",
       "      <th>1</th>\n",
       "      <td>1021</td>\n",
       "      <td>1</td>\n",
       "      <td>0.5</td>\n",
       "      <td>1</td>\n",
       "      <td>0</td>\n",
       "      <td>1</td>\n",
       "      <td>53</td>\n",
       "      <td>0.7</td>\n",
       "      <td>136</td>\n",
       "      <td>3</td>\n",
       "      <td>...</td>\n",
       "      <td>905</td>\n",
       "      <td>1988</td>\n",
       "      <td>2631</td>\n",
       "      <td>17</td>\n",
       "      <td>3</td>\n",
       "      <td>7</td>\n",
       "      <td>1</td>\n",
       "      <td>1</td>\n",
       "      <td>0</td>\n",
       "      <td>0</td>\n",
       "    </tr>\n",
       "    <tr>\n",
       "      <th>2</th>\n",
       "      <td>563</td>\n",
       "      <td>1</td>\n",
       "      <td>0.5</td>\n",
       "      <td>1</td>\n",
       "      <td>2</td>\n",
       "      <td>1</td>\n",
       "      <td>41</td>\n",
       "      <td>0.9</td>\n",
       "      <td>145</td>\n",
       "      <td>5</td>\n",
       "      <td>...</td>\n",
       "      <td>1263</td>\n",
       "      <td>1716</td>\n",
       "      <td>2603</td>\n",
       "      <td>11</td>\n",
       "      <td>2</td>\n",
       "      <td>9</td>\n",
       "      <td>1</td>\n",
       "      <td>1</td>\n",
       "      <td>0</td>\n",
       "      <td>0</td>\n",
       "    </tr>\n",
       "    <tr>\n",
       "      <th>3</th>\n",
       "      <td>615</td>\n",
       "      <td>1</td>\n",
       "      <td>2.5</td>\n",
       "      <td>0</td>\n",
       "      <td>0</td>\n",
       "      <td>0</td>\n",
       "      <td>10</td>\n",
       "      <td>0.8</td>\n",
       "      <td>131</td>\n",
       "      <td>6</td>\n",
       "      <td>...</td>\n",
       "      <td>1216</td>\n",
       "      <td>1786</td>\n",
       "      <td>2769</td>\n",
       "      <td>16</td>\n",
       "      <td>8</td>\n",
       "      <td>11</td>\n",
       "      <td>1</td>\n",
       "      <td>0</td>\n",
       "      <td>0</td>\n",
       "      <td>0</td>\n",
       "    </tr>\n",
       "    <tr>\n",
       "      <th>4</th>\n",
       "      <td>1821</td>\n",
       "      <td>1</td>\n",
       "      <td>1.2</td>\n",
       "      <td>0</td>\n",
       "      <td>13</td>\n",
       "      <td>1</td>\n",
       "      <td>44</td>\n",
       "      <td>0.6</td>\n",
       "      <td>141</td>\n",
       "      <td>2</td>\n",
       "      <td>...</td>\n",
       "      <td>1208</td>\n",
       "      <td>1212</td>\n",
       "      <td>1411</td>\n",
       "      <td>8</td>\n",
       "      <td>2</td>\n",
       "      <td>15</td>\n",
       "      <td>1</td>\n",
       "      <td>1</td>\n",
       "      <td>0</td>\n",
       "      <td>0</td>\n",
       "    </tr>\n",
       "  </tbody>\n",
       "</table>\n",
       "<p>5 rows × 21 columns</p>\n",
       "</div>"
      ],
      "text/plain": [
       "   battery_power  blue  clock_speed  dual_sim  fc  four_g  int_memory  m_dep  \\\n",
       "0            842     0          2.2         0   1       0           7    0.6   \n",
       "1           1021     1          0.5         1   0       1          53    0.7   \n",
       "2            563     1          0.5         1   2       1          41    0.9   \n",
       "3            615     1          2.5         0   0       0          10    0.8   \n",
       "4           1821     1          1.2         0  13       1          44    0.6   \n",
       "\n",
       "   mobile_wt  n_cores  ...  px_height  px_width   ram  sc_h  sc_w  talk_time  \\\n",
       "0        188        2  ...         20       756  2549     9     7         19   \n",
       "1        136        3  ...        905      1988  2631    17     3          7   \n",
       "2        145        5  ...       1263      1716  2603    11     2          9   \n",
       "3        131        6  ...       1216      1786  2769    16     8         11   \n",
       "4        141        2  ...       1208      1212  1411     8     2         15   \n",
       "\n",
       "   three_g  touch_screen  wifi  price_category  \n",
       "0        0             0     1               0  \n",
       "1        1             1     0               0  \n",
       "2        1             1     0               0  \n",
       "3        1             0     0               0  \n",
       "4        1             1     0               0  \n",
       "\n",
       "[5 rows x 21 columns]"
      ]
     },
     "execution_count": 25,
     "metadata": {},
     "output_type": "execute_result"
    }
   ],
   "source": [
    "mp_df.head(5)"
   ]
  },
  {
   "cell_type": "markdown",
   "id": "outdoor-musician",
   "metadata": {},
   "source": [
    "### Selecting attributes related to phone price"
   ]
  },
  {
   "cell_type": "code",
   "execution_count": 44,
   "id": "iraqi-elite",
   "metadata": {},
   "outputs": [
    {
     "data": {
      "text/plain": [
       "[Text(0, 0, 'Low'), Text(1, 0, 'High')]"
      ]
     },
     "execution_count": 44,
     "metadata": {},
     "output_type": "execute_result"
    },
    {
     "data": {
      "image/png": "[encoded data removed]",
      "text/plain": [
       "<Figure size 480x480 with 1 Axes>"
      ]
     },
     "metadata": {
      "needs_background": "light"
     },
     "output_type": "display_data"
    }
   ],
   "source": [
    "import seaborn as sns\n",
    "p1 = plt.figure(figsize=(6,6),dpi=80)\n",
    "axe1 = p1.add_subplot(1,1,1)\n",
    "sns.boxenplot(x = \"price_category\",y = 'battery_power',data = mp_df,linewidth = 0.4).set_title('Battery power via price')\n",
    "axe1.set_xticklabels([\"Low\",\"High\"])"
   ]
  },
  {
   "cell_type": "code",
   "execution_count": 46,
   "id": "electrical-stick",
   "metadata": {},
   "outputs": [
    {
     "data": {
      "text/plain": [
       "[Text(0, 0, 'Without Blue'), Text(1, 0, 'With Blue')]"
      ]
     },
     "execution_count": 46,
     "metadata": {},
     "output_type": "execute_result"
    },
    {
     "data": {
      "image/png": "[encoded data removed]",
      "text/plain": [
       "<Figure size 480x480 with 1 Axes>"
      ]
     },
     "metadata": {
      "needs_background": "light"
     },
     "output_type": "display_data"
    }
   ],
   "source": [
    "p1 = plt.figure(figsize=(6,6),dpi=80)\n",
    "axe1 = p1.add_subplot(1,1,1)\n",
    "sns.countplot(x = 'blue',data = mp_df, hue = 'price_category').set_title('Blue tooth via price')\n",
    "axe1.set_xticklabels([\"Without Blue\",\"With Blue\"])"
   ]
  },
  {
   "cell_type": "code",
   "execution_count": 48,
   "id": "expanded-popularity",
   "metadata": {},
   "outputs": [
    {
     "data": {
      "text/plain": [
       "[Text(0, 0, 'Low'), Text(1, 0, 'High')]"
      ]
     },
     "execution_count": 48,
     "metadata": {},
     "output_type": "execute_result"
    },
    {
     "data": {
      "image/png": "[encoded data removed]",
      "text/plain": [
       "<Figure size 480x480 with 1 Axes>"
      ]
     },
     "metadata": {
      "needs_background": "light"
     },
     "output_type": "display_data"
    }
   ],
   "source": [
    "import seaborn as sns\n",
    "p1 = plt.figure(figsize=(6,6),dpi=80)\n",
    "axe1 = p1.add_subplot(1,1,1)\n",
    "sns.boxenplot(x = \"price_category\",y = 'clock_speed',data = mp_df,linewidth = 0.4).set_title('Clock speed via price')\n",
    "axe1.set_xticklabels([\"Low\",\"High\"])"
   ]
  },
  {
   "cell_type": "code",
   "execution_count": 50,
   "id": "hundred-advertising",
   "metadata": {},
   "outputs": [
    {
     "data": {
      "text/plain": [
       "[Text(0, 0, 'Without Dual sim'), Text(1, 0, 'With Dual sim')]"
      ]
     },
     "execution_count": 50,
     "metadata": {},
     "output_type": "execute_result"
    },
    {
     "data": {
      "image/png": "[encoded data removed]",
      "text/plain": [
       "<Figure size 480x480 with 1 Axes>"
      ]
     },
     "metadata": {
      "needs_background": "light"
     },
     "output_type": "display_data"
    }
   ],
   "source": [
    "p1 = plt.figure(figsize=(6,6),dpi=80)\n",
    "axe1 = p1.add_subplot(1,1,1)\n",
    "sns.countplot(x = 'dual_sim',data = mp_df, hue = 'price_category').set_title('Dual sim via price')\n",
    "axe1.set_xticklabels([\"Without Dual sim\",\"With Dual sim\"])"
   ]
  },
  {
   "cell_type": "code",
   "execution_count": 52,
   "id": "knowing-tower",
   "metadata": {},
   "outputs": [
    {
     "data": {
      "text/plain": [
       "[Text(0, 0, 'Low'), Text(1, 0, 'High')]"
      ]
     },
     "execution_count": 52,
     "metadata": {},
     "output_type": "execute_result"
    },
    {
     "data": {
      "image/png": "[encoded data removed]",
      "text/plain": [
       "<Figure size 480x480 with 1 Axes>"
      ]
     },
     "metadata": {
      "needs_background": "light"
     },
     "output_type": "display_data"
    }
   ],
   "source": [
    "import seaborn as sns\n",
    "p1 = plt.figure(figsize=(6,6),dpi=80)\n",
    "axe1 = p1.add_subplot(1,1,1)\n",
    "sns.boxenplot(x = \"price_category\",y = 'fc',data = mp_df,linewidth = 0.4).set_title('fc via price')\n",
    "axe1.set_xticklabels([\"Low\",\"High\"])"
   ]
  },
  {
   "cell_type": "code",
   "execution_count": 51,
   "id": "distinguished-timer",
   "metadata": {},
   "outputs": [
    {
     "data": {
      "text/plain": [
       "[Text(0, 0, 'Without 4g'), Text(1, 0, 'With 4g')]"
      ]
     },
     "execution_count": 51,
     "metadata": {},
     "output_type": "execute_result"
    },
    {
     "data": {
      "image/png": "[encoded data removed]",
      "text/plain": [
       "<Figure size 480x480 with 1 Axes>"
      ]
     },
     "metadata": {
      "needs_background": "light"
     },
     "output_type": "display_data"
    }
   ],
   "source": [
    "p1 = plt.figure(figsize=(6,6),dpi=80)\n",
    "axe1 = p1.add_subplot(1,1,1)\n",
    "sns.countplot(x = 'four_g',data = mp_df, hue = 'price_category').set_title('four_g via price')\n",
    "axe1.set_xticklabels([\"Without 4g\",\"With 4g\"])"
   ]
  },
  {
   "cell_type": "code",
   "execution_count": 53,
   "id": "negative-lincoln",
   "metadata": {},
   "outputs": [
    {
     "data": {
      "text/plain": [
       "[Text(0, 0, 'Low'), Text(1, 0, 'High')]"
      ]
     },
     "execution_count": 53,
     "metadata": {},
     "output_type": "execute_result"
    },
    {
     "data": {
      "image/png": "[encoded data removed]",
      "text/plain": [
       "<Figure size 480x480 with 1 Axes>"
      ]
     },
     "metadata": {
      "needs_background": "light"
     },
     "output_type": "display_data"
    }
   ],
   "source": [
    "import seaborn as sns\n",
    "p1 = plt.figure(figsize=(6,6),dpi=80)\n",
    "axe1 = p1.add_subplot(1,1,1)\n",
    "sns.boxenplot(x = \"price_category\",y = 'int_memory',data = mp_df,linewidth = 0.4).set_title('int_memory via price')\n",
    "axe1.set_xticklabels([\"Low\",\"High\"])"
   ]
  },
  {
   "cell_type": "code",
   "execution_count": 54,
   "id": "general-invitation",
   "metadata": {
    "scrolled": true
   },
   "outputs": [
    {
     "data": {
      "text/plain": [
       "[Text(0, 0, 'Low'), Text(1, 0, 'High')]"
      ]
     },
     "execution_count": 54,
     "metadata": {},
     "output_type": "execute_result"
    },
    {
     "data": {
      "image/png": "[encoded data removed]",
      "text/plain": [
       "<Figure size 480x480 with 1 Axes>"
      ]
     },
     "metadata": {
      "needs_background": "light"
     },
     "output_type": "display_data"
    }
   ],
   "source": [
    "import seaborn as sns\n",
    "p1 = plt.figure(figsize=(6,6),dpi=80)\n",
    "axe1 = p1.add_subplot(1,1,1)\n",
    "sns.boxenplot(x = \"price_category\",y = 'm_dep',data = mp_df,linewidth = 0.4).set_title('m_dep via price')\n",
    "axe1.set_xticklabels([\"Low\",\"High\"])"
   ]
  },
  {
   "cell_type": "code",
   "execution_count": 55,
   "id": "alive-perspective",
   "metadata": {},
   "outputs": [
    {
     "data": {
      "text/plain": [
       "[Text(0, 0, 'Low'), Text(1, 0, 'High')]"
      ]
     },
     "execution_count": 55,
     "metadata": {},
     "output_type": "execute_result"
    },
    {
     "data": {
      "image/png": "[encoded data removed]",
      "text/plain": [
       "<Figure size 480x480 with 1 Axes>"
      ]
     },
     "metadata": {
      "needs_background": "light"
     },
     "output_type": "display_data"
    }
   ],
   "source": [
    "import seaborn as sns\n",
    "p1 = plt.figure(figsize=(6,6),dpi=80)\n",
    "axe1 = p1.add_subplot(1,1,1)\n",
    "sns.boxenplot(x = \"price_category\",y = 'mobile_wt',data = mp_df,linewidth = 0.4).set_title('mobile_wt via price')\n",
    "axe1.set_xticklabels([\"Low\",\"High\"])"
   ]
  },
  {
   "cell_type": "code",
   "execution_count": 56,
   "id": "sitting-identity",
   "metadata": {},
   "outputs": [
    {
     "data": {
      "text/plain": [
       "[Text(0, 0, 'Low'), Text(1, 0, 'High')]"
      ]
     },
     "execution_count": 56,
     "metadata": {},
     "output_type": "execute_result"
    },
    {
     "data": {
      "image/png": "[encoded data removed]",
      "text/plain": [
       "<Figure size 480x480 with 1 Axes>"
      ]
     },
     "metadata": {
      "needs_background": "light"
     },
     "output_type": "display_data"
    }
   ],
   "source": [
    "import seaborn as sns\n",
    "p1 = plt.figure(figsize=(6,6),dpi=80)\n",
    "axe1 = p1.add_subplot(1,1,1)\n",
    "sns.boxenplot(x = \"price_category\",y = 'n_cores',data = mp_df,linewidth = 0.4).set_title('n_cores via price')\n",
    "axe1.set_xticklabels([\"Low\",\"High\"])"
   ]
  },
  {
   "cell_type": "code",
   "execution_count": 57,
   "id": "molecular-drive",
   "metadata": {},
   "outputs": [
    {
     "data": {
      "text/plain": [
       "[Text(0, 0, 'Low'), Text(1, 0, 'High')]"
      ]
     },
     "execution_count": 57,
     "metadata": {},
     "output_type": "execute_result"
    },
    {
     "data": {
      "image/png": "[encoded data removed]",
      "text/plain": [
       "<Figure size 480x480 with 1 Axes>"
      ]
     },
     "metadata": {
      "needs_background": "light"
     },
     "output_type": "display_data"
    }
   ],
   "source": [
    "import seaborn as sns\n",
    "p1 = plt.figure(figsize=(6,6),dpi=80)\n",
    "axe1 = p1.add_subplot(1,1,1)\n",
    "sns.boxenplot(x = \"price_category\",y = 'pc',data = mp_df,linewidth = 0.4).set_title('pc via price')\n",
    "axe1.set_xticklabels([\"Low\",\"High\"])"
   ]
  },
  {
   "cell_type": "code",
   "execution_count": 59,
   "id": "nominated-truth",
   "metadata": {},
   "outputs": [
    {
     "data": {
      "text/plain": [
       "[Text(0, 0, 'Low'), Text(1, 0, 'High')]"
      ]
     },
     "execution_count": 59,
     "metadata": {},
     "output_type": "execute_result"
    },
    {
     "data": {
      "image/png": "[encoded data removed]",
      "text/plain": [
       "<Figure size 480x480 with 1 Axes>"
      ]
     },
     "metadata": {
      "needs_background": "light"
     },
     "output_type": "display_data"
    }
   ],
   "source": [
    "import seaborn as sns\n",
    "p1 = plt.figure(figsize=(6,6),dpi=80)\n",
    "axe1 = p1.add_subplot(1,1,1)\n",
    "sns.boxenplot(x = \"price_category\",y = 'px_height',data = mp_df,linewidth = 0.4).set_title('px_height via price')\n",
    "axe1.set_xticklabels([\"Low\",\"High\"])"
   ]
  },
  {
   "cell_type": "code",
   "execution_count": 61,
   "id": "functioning-external",
   "metadata": {},
   "outputs": [
    {
     "data": {
      "text/plain": [
       "[Text(0, 0, 'Low'), Text(1, 0, 'High')]"
      ]
     },
     "execution_count": 61,
     "metadata": {},
     "output_type": "execute_result"
    },
    {
     "data": {
      "image/png": "[encoded data removed]",
      "text/plain": [
       "<Figure size 480x480 with 1 Axes>"
      ]
     },
     "metadata": {
      "needs_background": "light"
     },
     "output_type": "display_data"
    }
   ],
   "source": [
    "import seaborn as sns\n",
    "p1 = plt.figure(figsize=(6,6),dpi=80)\n",
    "axe1 = p1.add_subplot(1,1,1)\n",
    "sns.boxenplot(x = \"price_category\",y = 'px_width',data = mp_df,linewidth = 0.4).set_title('px_width via price')\n",
    "axe1.set_xticklabels([\"Low\",\"High\"])"
   ]
  },
  {
   "cell_type": "code",
   "execution_count": 63,
   "id": "ultimate-constitutional",
   "metadata": {},
   "outputs": [
    {
     "data": {
      "text/plain": [
       "[Text(0, 0, 'Low'), Text(1, 0, 'High')]"
      ]
     },
     "execution_count": 63,
     "metadata": {},
     "output_type": "execute_result"
    },
    {
     "data": {
      "image/png": "[encoded data removed]",
      "text/plain": [
       "<Figure size 480x480 with 1 Axes>"
      ]
     },
     "metadata": {
      "needs_background": "light"
     },
     "output_type": "display_data"
    }
   ],
   "source": [
    "import seaborn as sns\n",
    "p1 = plt.figure(figsize=(6,6),dpi=80)\n",
    "axe1 = p1.add_subplot(1,1,1)\n",
    "sns.boxenplot(x = \"price_category\",y = 'ram',data = mp_df,linewidth = 0.4).set_title('ram via price')\n",
    "axe1.set_xticklabels([\"Low\",\"High\"])"
   ]
  },
  {
   "cell_type": "code",
   "execution_count": 64,
   "id": "wireless-theorem",
   "metadata": {},
   "outputs": [
    {
     "data": {
      "text/plain": [
       "[Text(0, 0, 'Low'), Text(1, 0, 'High')]"
      ]
     },
     "execution_count": 64,
     "metadata": {},
     "output_type": "execute_result"
    },
    {
     "data": {
      "image/png": "[encoded data removed]",
      "text/plain": [
       "<Figure size 480x480 with 1 Axes>"
      ]
     },
     "metadata": {
      "needs_background": "light"
     },
     "output_type": "display_data"
    }
   ],
   "source": [
    "import seaborn as sns\n",
    "p1 = plt.figure(figsize=(6,6),dpi=80)\n",
    "axe1 = p1.add_subplot(1,1,1)\n",
    "sns.boxenplot(x = \"price_category\",y = 'sc_h',data = mp_df,linewidth = 0.4).set_title('sc_h via price')\n",
    "axe1.set_xticklabels([\"Low\",\"High\"])"
   ]
  },
  {
   "cell_type": "code",
   "execution_count": 65,
   "id": "narrow-structure",
   "metadata": {},
   "outputs": [
    {
     "data": {
      "text/plain": [
       "[Text(0, 0, 'Low'), Text(1, 0, 'High')]"
      ]
     },
     "execution_count": 65,
     "metadata": {},
     "output_type": "execute_result"
    },
    {
     "data": {
      "image/png": "[encoded data removed]",
      "text/plain": [
       "<Figure size 480x480 with 1 Axes>"
      ]
     },
     "metadata": {
      "needs_background": "light"
     },
     "output_type": "display_data"
    }
   ],
   "source": [
    "import seaborn as sns\n",
    "p1 = plt.figure(figsize=(6,6),dpi=80)\n",
    "axe1 = p1.add_subplot(1,1,1)\n",
    "sns.boxenplot(x = \"price_category\",y = 'sc_w',data = mp_df,linewidth = 0.4).set_title('sc_w via price')\n",
    "axe1.set_xticklabels([\"Low\",\"High\"])"
   ]
  },
  {
   "cell_type": "code",
   "execution_count": 66,
   "id": "removed-fundamentals",
   "metadata": {},
   "outputs": [
    {
     "data": {
      "text/plain": [
       "[Text(0, 0, 'Low'), Text(1, 0, 'High')]"
      ]
     },
     "execution_count": 66,
     "metadata": {},
     "output_type": "execute_result"
    },
    {
     "data": {
      "image/png": "[encoded data removed]",
      "text/plain": [
       "<Figure size 480x480 with 1 Axes>"
      ]
     },
     "metadata": {
      "needs_background": "light"
     },
     "output_type": "display_data"
    }
   ],
   "source": [
    "import seaborn as sns\n",
    "p1 = plt.figure(figsize=(6,6),dpi=80)\n",
    "axe1 = p1.add_subplot(1,1,1)\n",
    "sns.boxenplot(x = \"price_category\",y = 'talk_time',data = mp_df,linewidth = 0.4).set_title('talk_time via price')\n",
    "axe1.set_xticklabels([\"Low\",\"High\"])"
   ]
  },
  {
   "cell_type": "code",
   "execution_count": 67,
   "id": "clean-philadelphia",
   "metadata": {},
   "outputs": [
    {
     "data": {
      "text/plain": [
       "[Text(0, 0, 'Without 3g'), Text(1, 0, 'With 3g')]"
      ]
     },
     "execution_count": 67,
     "metadata": {},
     "output_type": "execute_result"
    },
    {
     "data": {
      "image/png": "[encoded data removed]",
      "text/plain": [
       "<Figure size 480x480 with 1 Axes>"
      ]
     },
     "metadata": {
      "needs_background": "light"
     },
     "output_type": "display_data"
    }
   ],
   "source": [
    "p1 = plt.figure(figsize=(6,6),dpi=80)\n",
    "axe1 = p1.add_subplot(1,1,1)\n",
    "sns.countplot(x = 'three_g',data = mp_df, hue = 'price_category').set_title('three_g via price')\n",
    "axe1.set_xticklabels([\"Without 3g\",\"With 3g\"])"
   ]
  },
  {
   "cell_type": "code",
   "execution_count": 68,
   "id": "educated-commissioner",
   "metadata": {},
   "outputs": [
    {
     "data": {
      "text/plain": [
       "[Text(0, 0, 'Without touch_screen'), Text(1, 0, 'With touch_screen')]"
      ]
     },
     "execution_count": 68,
     "metadata": {},
     "output_type": "execute_result"
    },
    {
     "data": {
      "image/png": "[encoded data removed]",
      "text/plain": [
       "<Figure size 480x480 with 1 Axes>"
      ]
     },
     "metadata": {
      "needs_background": "light"
     },
     "output_type": "display_data"
    }
   ],
   "source": [
    "p1 = plt.figure(figsize=(6,6),dpi=80)\n",
    "axe1 = p1.add_subplot(1,1,1)\n",
    "sns.countplot(x = 'touch_screen',data = mp_df, hue = 'price_category').set_title('touch_screen via price')\n",
    "axe1.set_xticklabels([\"Without touch_screen\",\"With touch_screen\"])"
   ]
  },
  {
   "cell_type": "code",
   "execution_count": 69,
   "id": "interested-minimum",
   "metadata": {
    "scrolled": true
   },
   "outputs": [
    {
     "data": {
      "text/plain": [
       "[Text(0, 0, 'Without wifi'), Text(1, 0, 'With wifi')]"
      ]
     },
     "execution_count": 69,
     "metadata": {},
     "output_type": "execute_result"
    },
    {
     "data": {
      "image/png": "[encoded data removed]",
      "text/plain": [
       "<Figure size 480x480 with 1 Axes>"
      ]
     },
     "metadata": {
      "needs_background": "light"
     },
     "output_type": "display_data"
    }
   ],
   "source": [
    "p1 = plt.figure(figsize=(6,6),dpi=80)\n",
    "axe1 = p1.add_subplot(1,1,1)\n",
    "sns.countplot(x = 'wifi',data = mp_df, hue = 'price_category').set_title('wifi via price')\n",
    "axe1.set_xticklabels([\"Without wifi\",\"With wifi\"])"
   ]
  },
  {
   "cell_type": "markdown",
   "id": "handy-gender",
   "metadata": {},
   "source": [
    "### Numerosity reduction"
   ]
  },
  {
   "cell_type": "code",
   "execution_count": 30,
   "id": "organic-vegetable",
   "metadata": {},
   "outputs": [],
   "source": [
    "from sklearn.model_selection import train_test_split\n",
    "mp_df80, mp_df20 = train_test_split(mp_df,test_size = 0.2,random_state = 29)"
   ]
  },
  {
   "cell_type": "code",
   "execution_count": 32,
   "id": "former-concentration",
   "metadata": {},
   "outputs": [
    {
     "name": "stdout",
     "output_type": "stream",
     "text": [
      "<class 'pandas.core.frame.DataFrame'>\n",
      "Int64Index: 1600 entries, 85 to 1395\n",
      "Data columns (total 21 columns):\n",
      " #   Column          Non-Null Count  Dtype  \n",
      "---  ------          --------------  -----  \n",
      " 0   battery_power   1600 non-null   int64  \n",
      " 1   blue            1600 non-null   int64  \n",
      " 2   clock_speed     1600 non-null   float64\n",
      " 3   dual_sim        1600 non-null   int64  \n",
      " 4   fc              1600 non-null   int64  \n",
      " 5   four_g          1600 non-null   int64  \n",
      " 6   int_memory      1600 non-null   int64  \n",
      " 7   m_dep           1600 non-null   float64\n",
      " 8   mobile_wt       1600 non-null   int64  \n",
      " 9   n_cores         1600 non-null   int64  \n",
      " 10  pc              1600 non-null   int64  \n",
      " 11  px_height       1600 non-null   int64  \n",
      " 12  px_width        1600 non-null   int64  \n",
      " 13  ram             1600 non-null   int64  \n",
      " 14  sc_h            1600 non-null   int64  \n",
      " 15  sc_w            1600 non-null   int64  \n",
      " 16  talk_time       1600 non-null   int64  \n",
      " 17  three_g         1600 non-null   int64  \n",
      " 18  touch_screen    1600 non-null   int64  \n",
      " 19  wifi            1600 non-null   int64  \n",
      " 20  price_category  1600 non-null   int64  \n",
      "dtypes: float64(2), int64(19)\n",
      "memory usage: 275.0 KB\n"
     ]
    }
   ],
   "source": [
    "mp_df80.info()"
   ]
  },
  {
   "cell_type": "code",
   "execution_count": 33,
   "id": "liberal-cooperation",
   "metadata": {},
   "outputs": [],
   "source": [
    "mp_df80.to_csv(\"modified phone 80%.csv\")"
   ]
  },
  {
   "cell_type": "markdown",
   "id": "valued-producer",
   "metadata": {},
   "source": [
    "### Ranking attributes"
   ]
  },
  {
   "cell_type": "code",
   "execution_count": 24,
   "id": "purple-toner",
   "metadata": {},
   "outputs": [
    {
     "data": {
      "image/png": "[encoded data removed]",
      "text/plain": [
       "<Figure size 432x288 with 1 Axes>"
      ]
     },
     "metadata": {
      "needs_background": "light"
     },
     "output_type": "display_data"
    }
   ],
   "source": [
    "import matplotlib.pyplot as plt\n",
    "Importance = pd.DataFrame({\"Importance\": DT.feature_importances_ * 100},\n",
    "                          index = mp_features.columns)\n",
    "Importance.sort_values(by=\"Importance\",\n",
    "                       axis=0,\n",
    "                       ascending=True).plot(kind=\"barh\", color=\"r\")\n",
    "plt.show()"
   ]
  },
  {
   "cell_type": "code",
   "execution_count": 26,
   "id": "biblical-portugal",
   "metadata": {},
   "outputs": [
    {
     "name": "stdout",
     "output_type": "stream",
     "text": [
      "               Importance\n",
      "battery_power    9.839461\n",
      "blue             0.000000\n",
      "clock_speed      0.000000\n",
      "dual_sim         0.000000\n",
      "fc               0.000000\n",
      "four_g           0.027432\n",
      "int_memory       0.000000\n",
      "m_dep            0.000000\n",
      "mobile_wt        0.000000\n",
      "n_cores          0.000000\n",
      "pc               0.000000\n",
      "px_height        7.813528\n",
      "px_width         3.437148\n",
      "ram             78.882431\n",
      "sc_h             0.000000\n",
      "sc_w             0.000000\n",
      "talk_time        0.000000\n",
      "three_g          0.000000\n",
      "touch_screen     0.000000\n",
      "wifi             0.000000\n",
      "\n",
      "Retained features importance: 0.0\n"
     ]
    }
   ],
   "source": [
    "Low_importance_features = Importance[Importance[\"Importance\"] < 80 ]\n",
    "print(Low_importance_features)\n",
    "print()\n",
    "print(\"Retained features importance:\", 100 - Low_importance_features[\"Importance\"].sum() )"
   ]
  },
  {
   "cell_type": "code",
   "execution_count": null,
   "id": "agreed-romantic",
   "metadata": {},
   "outputs": [],
   "source": []
  }
 ],
 "metadata": {
  "kernelspec": {
   "display_name": "Python 3",
   "language": "python",
   "name": "python3"
  },
  "language_info": {
   "codemirror_mode": {
    "name": "ipython",
    "version": 3
   },
   "file_extension": ".py",
   "mimetype": "text/x-python",
   "name": "python",
   "nbconvert_exporter": "python",
   "pygments_lexer": "ipython3",
   "version": "3.7.10"
  }
 },
 "nbformat": 4,
 "nbformat_minor": 5
}
